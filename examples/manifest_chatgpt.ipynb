{
 "cells": [
  {
   "cell_type": "code",
   "execution_count": 1,
   "metadata": {},
   "outputs": [],
   "source": [
    "%load_ext autoreload\n",
    "%autoreload 2"
   ]
  },
  {
   "cell_type": "code",
   "execution_count": 3,
   "metadata": {},
   "outputs": [],
   "source": [
    "from manifest import Manifest\n",
    "import os\n",
    "\n",
    "# ChatGPT tries hard not to give people programmatic access.\n",
    "# As a warning, this will open a browser window.\n",
    "# You need to install xvfb and chromium for linux headless mode to work\n",
    "# See https://github.com/terry3041/pyChatGPT\n",
    "\n",
    "# The responses are not fast\n",
    "manifest = Manifest(\n",
    "    client_name=\"chatgpt\",\n",
    "    client_connection=os.environ.get(\"CHATGPT_SESSION_KEY\"),\n",
    ")\n",
    "print(manifest.run(\"Describe in a single, short sentence what is the best sandwhich in the world. Be short and concise.\"))"
   ]
  }
 ],
 "metadata": {
  "kernelspec": {
   "display_name": "mlcore",
   "language": "python",
   "name": "python3"
  },
  "language_info": {
   "codemirror_mode": {
    "name": "ipython",
    "version": 3
   },
   "file_extension": ".py",
   "mimetype": "text/x-python",
   "name": "python",
   "nbconvert_exporter": "python",
   "pygments_lexer": "ipython3",
   "version": "3.10.0"
  },
  "orig_nbformat": 4,
  "vscode": {
   "interpreter": {
    "hash": "1ea9cc00d433352044b557b1784ac6e58df03de4b7bb312554014351989eb135"
   }
  }
 },
 "nbformat": 4,
 "nbformat_minor": 2
}
