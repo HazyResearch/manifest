{
 "cells": [
  {
   "cell_type": "code",
   "execution_count": 1,
   "metadata": {},
   "outputs": [],
   "source": [
    "%load_ext autoreload\n",
    "%autoreload 2"
   ]
  },
  {
   "cell_type": "code",
   "execution_count": 6,
   "metadata": {},
   "outputs": [],
   "source": [
    "from manifest import Manifest\n",
    "import os\n",
    "\n",
    "# ChatGPT tries hard not to give people programmatic access.\n",
    "# As a warning, this will open a browser window.\n",
    "# You need to install xvfb and chromium for linux headless mode to work\n",
    "# See https://github.com/terry3041/pyChatGPT\n",
    "\n",
    "# The responses are not fast\n",
    "manifest = Manifest(\n",
    "    client_name=\"chatgpt\",\n",
    "    client_connection=os.environ.get(\"CHATGPT_SESSION_KEY\"),\n",
    ")\n"
   ]
  },
  {
   "cell_type": "code",
   "execution_count": 7,
   "metadata": {},
   "outputs": [
    {
     "name": "stdout",
     "output_type": "stream",
     "text": [
      "Sure! Pickling is a way to save things, like food or toys, so that they can be used later. Imagine you have a toy that you really like, but you have to go to school and can't play with it. You can put the toy in a special jar and close the lid tight to keep it safe until you get home. That's kind of like pickling. You're taking something that you want to save, and putting it in a special container so it won't go bad or get lost. Just like the toy in the jar, pickled food can last a long time without going bad.\n"
     ]
    }
   ],
   "source": [
    "print(manifest.run(\"Can you explain the pickling process to a four-year old?\"))\n"
   ]
  }
 ],
 "metadata": {
  "kernelspec": {
   "display_name": "bootleg",
   "language": "python",
   "name": "python3"
  },
  "language_info": {
   "codemirror_mode": {
    "name": "ipython",
    "version": 3
   },
   "file_extension": ".py",
   "mimetype": "text/x-python",
   "name": "python",
   "nbconvert_exporter": "python",
   "pygments_lexer": "ipython3",
   "version": "3.8.12"
  },
  "orig_nbformat": 4,
  "vscode": {
   "interpreter": {
    "hash": "7a3f97ab0465937066e9b79893b779dfc8a12d73c41f9d98a7bf05133c798250"
   }
  }
 },
 "nbformat": 4,
 "nbformat_minor": 2
}
