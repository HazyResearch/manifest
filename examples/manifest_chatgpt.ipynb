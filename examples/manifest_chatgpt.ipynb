{
 "cells": [
  {
   "cell_type": "code",
   "execution_count": 1,
   "metadata": {},
   "outputs": [],
   "source": [
    "%load_ext autoreload\n",
    "%autoreload 2"
   ]
  },
  {
   "cell_type": "code",
   "execution_count": 11,
   "metadata": {},
   "outputs": [],
   "source": [
    "OPENAI_KEY = \"sk-xxx\""
   ]
  },
  {
   "attachments": {},
   "cell_type": "markdown",
   "metadata": {},
   "source": [
    "## Use ChatOpenAI\n",
    "\n",
    "Set you `OPENAI_API_KEY` environment variable."
   ]
  },
  {
   "cell_type": "code",
   "execution_count": 9,
   "metadata": {},
   "outputs": [],
   "source": [
    "from manifest import Manifest\n",
    "from manifest.connections.client_pool import ClientConnection\n",
    "\n",
    "openai_chat = ClientConnection(\n",
    "    client_name=\"openaichat\",\n",
    "    client_connection=OPENAI_KEY,\n",
    "    engine=\"gpt-3.5-turbo\"\n",
    ")\n",
    "\n",
    "manifest = Manifest(client_pool=[openai_chat])"
   ]
  },
  {
   "cell_type": "code",
   "execution_count": 10,
   "metadata": {},
   "outputs": [
    {
     "name": "stdout",
     "output_type": "stream",
     "text": [
      "The 2020 World Series was played at Globe\n"
     ]
    }
   ],
   "source": [
    "# Simple question\n",
    "chat_dict = [\n",
    "    {\"role\": \"system\", \"content\": \"You are a helpful assistant.\"},\n",
    "    {\"role\": \"user\", \"content\": \"Who won the world series in 2020?\"},\n",
    "    {\"role\": \"assistant\", \"content\": \"The Los Angeles Dodgers won the World Series in 2020.\"},\n",
    "    {\"role\": \"user\", \"content\": \"Where was it played?\"}\n",
    "]\n",
    "print(manifest.run_chat(chat_dict))"
   ]
  }
 ],
 "metadata": {
  "kernelspec": {
   "display_name": "manifest",
   "language": "python",
   "name": "python3"
  },
  "language_info": {
   "codemirror_mode": {
    "name": "ipython",
    "version": 3
   },
   "file_extension": ".py",
   "mimetype": "text/x-python",
   "name": "python",
   "nbconvert_exporter": "python",
   "pygments_lexer": "ipython3",
   "version": "3.10.4"
  },
  "orig_nbformat": 4,
  "vscode": {
   "interpreter": {
    "hash": "fddffe4ac3b9f00470127629076101c1b5f38ecb1e7358b567d19305425e9491"
   }
  }
 },
 "nbformat": 4,
 "nbformat_minor": 2
}
