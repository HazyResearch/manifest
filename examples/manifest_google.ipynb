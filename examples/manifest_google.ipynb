{
 "cells": [
  {
   "cell_type": "code",
   "execution_count": null,
   "metadata": {},
   "outputs": [],
   "source": [
    "%load_ext autoreload\n",
    "%autoreload 2"
   ]
  },
  {
   "cell_type": "code",
   "execution_count": null,
   "metadata": {},
   "outputs": [],
   "source": [
    "GOOGLE_KEY = \"KEY::PROJECT_ID\""
   ]
  },
  {
   "attachments": {},
   "cell_type": "markdown",
   "metadata": {},
   "source": [
    "## Use GoogleVertexAPI"
   ]
  },
  {
   "cell_type": "code",
   "execution_count": null,
   "metadata": {},
   "outputs": [],
   "source": [
    "from manifest import Manifest\n",
    "from manifest.connections.client_pool import ClientConnection\n",
    "\n",
    "google_bison = ClientConnection(\n",
    "    client_name=\"google\",\n",
    "    client_connection=GOOGLE_KEY\n",
    ")\n",
    "\n",
    "manifest = Manifest(client_pool=[google_bison])"
   ]
  },
  {
   "cell_type": "code",
   "execution_count": null,
   "metadata": {},
   "outputs": [],
   "source": [
    "# Simple question\n",
    "print(manifest.run(\"What is your name\", max_tokens=40))"
   ]
  },
  {
   "cell_type": "code",
   "execution_count": null,
   "metadata": {},
   "outputs": [],
   "source": [
    "from manifest import Manifest\n",
    "from manifest.connections.client_pool import ClientConnection\n",
    "\n",
    "google_bison = ClientConnection(\n",
    "    client_name=\"googlechat\",\n",
    "    client_connection=GOOGLE_KEY\n",
    ")\n",
    "\n",
    "manifest = Manifest(client_pool=[google_bison])"
   ]
  },
  {
   "cell_type": "code",
   "execution_count": null,
   "metadata": {},
   "outputs": [],
   "source": [
    "chat_dict = [\n",
    "    # {\"author\": \"bot\", \"content\": \"You are a helpful assistant.\"},\n",
    "    {\"author\": \"user\", \"content\": \"Who won the world series in 2020?\"},\n",
    "    {\"author\": \"bot\", \"content\": \"The Los Angeles Dodgers won the World Series in 2020.\"},\n",
    "    {\"author\": \"user\", \"content\": \"Where was it played?\"}\n",
    "]\n",
    "print(manifest.run(chat_dict, max_tokens=8))"
   ]
  }
 ],
 "metadata": {
  "kernelspec": {
   "display_name": "manifest",
   "language": "python",
   "name": "python3"
  },
  "language_info": {
   "codemirror_mode": {
    "name": "ipython",
    "version": 3
   },
   "file_extension": ".py",
   "mimetype": "text/x-python",
   "name": "python",
   "nbconvert_exporter": "python",
   "pygments_lexer": "ipython3",
   "version": "3.10.4"
  },
  "orig_nbformat": 4,
  "vscode": {
   "interpreter": {
    "hash": "fddffe4ac3b9f00470127629076101c1b5f38ecb1e7358b567d19305425e9491"
   }
  }
 },
 "nbformat": 4,
 "nbformat_minor": 2
}
