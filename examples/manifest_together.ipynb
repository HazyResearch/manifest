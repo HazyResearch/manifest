{
 "cells": [
  {
   "cell_type": "code",
   "execution_count": 1,
   "metadata": {},
   "outputs": [
    {
     "name": "stdout",
     "output_type": "stream",
     "text": [
      "env: TOMA_URL=<TOMA_URL>\n"
     ]
    }
   ],
   "source": [
    "%load_ext autoreload\n",
    "%autoreload 2\n",
    "\n",
    "%env TOMA_URL=<TOMA_URL>"
   ]
  },
  {
   "cell_type": "code",
   "execution_count": null,
   "metadata": {},
   "outputs": [],
   "source": [
    "from manifest import Manifest\n",
    "\n",
    "# The responses are not fast\n",
    "manifest = Manifest(\n",
    "    client_name=\"toma\",\n",
    ")\n",
    "\n",
    "print(manifest.run(\"What is the color of an apple?\"))"
   ]
  },
  {
   "attachments": {},
   "cell_type": "markdown",
   "metadata": {},
   "source": [
    "With a cache"
   ]
  },
  {
   "cell_type": "code",
   "execution_count": null,
   "metadata": {},
   "outputs": [],
   "source": [
    "from manifest import Manifest\n",
    "\n",
    "# The responses are not fast\n",
    "manifest = Manifest(\n",
    "    client_name=\"toma\",\n",
    "    cache_name=\"sqlite\",\n",
    "    cache_connection=\"my_manifest_cache.sqlite\",\n",
    ")\n",
    "\n",
    "res = manifest.run(\"What is the color of an apple?\", return_response=True)\n",
    "print(res.get_response())\n",
    "print(\"Is Cached?\", res.is_cached())\n",
    "\n",
    "res = manifest.run(\"What is the color of an apple?\", return_response=True)\n",
    "print(res.get_response())\n",
    "print(\"Is Cached?\", res.is_cached())"
   ]
  },
  {
   "cell_type": "code",
   "execution_count": null,
   "metadata": {},
   "outputs": [],
   "source": []
  }
 ],
 "metadata": {
  "kernelspec": {
   "display_name": "manifest",
   "language": "python",
   "name": "python3"
  },
  "language_info": {
   "codemirror_mode": {
    "name": "ipython",
    "version": 3
   },
   "file_extension": ".py",
   "mimetype": "text/x-python",
   "name": "python",
   "nbconvert_exporter": "python",
   "pygments_lexer": "ipython3",
   "version": "3.10.4"
  },
  "orig_nbformat": 4,
  "vscode": {
   "interpreter": {
    "hash": "fddffe4ac3b9f00470127629076101c1b5f38ecb1e7358b567d19305425e9491"
   }
  }
 },
 "nbformat": 4,
 "nbformat_minor": 2
}
